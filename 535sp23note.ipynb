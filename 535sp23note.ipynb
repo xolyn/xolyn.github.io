{
 "cells": [
  {
   "attachments": {},
   "cell_type": "markdown",
   "metadata": {},
   "source": [
    "# 1.24\n",
    "## Logistics\n",
    "OH: M 14:00-16:00 \n",
    "## Clustering\n",
    "Input:  $x_1,x_2,...,x_n\\in R^p$\\\n",
    "Goal: Identify groups (clusters) of data or points"
   ]
  },
  {
   "cell_type": "code",
   "execution_count": 2,
   "metadata": {},
   "outputs": [
    {
     "name": "stdout",
     "output_type": "stream",
     "text": [
      "[1. 3. 5. 7.]\n"
     ]
    }
   ],
   "source": [
    "import numpy as np\n",
    "u = np.array([1., 3., 5. ,7.])\n",
    "print(u)"
   ]
  },
  {
   "cell_type": "code",
   "execution_count": 3,
   "metadata": {},
   "outputs": [
    {
     "data": {
      "text/plain": [
       "9.16515138991168"
      ]
     },
     "execution_count": 3,
     "metadata": {},
     "output_type": "execute_result"
    }
   ],
   "source": [
    "from numpy import linalg as LA\n",
    "LA.norm(u)\n",
    "#check\n",
    "np.sqrt(np.sum(u ** 2))"
   ]
  },
  {
   "cell_type": "code",
   "execution_count": 5,
   "metadata": {},
   "outputs": [
    {
     "name": "stdout",
     "output_type": "stream",
     "text": [
      "[[1. 3. 5. 7.]\n",
      " [2. 4. 6. 8.]\n",
      " [9. 8. 7. 6.]]\n"
     ]
    }
   ],
   "source": [
    "#creating a matrix using stack in numpy:\n",
    "u = np.array([1., 3., 5., 7.])\n",
    "v = np.array([2., 4., 6., 8.])\n",
    "w = np.array([9., 8., 7., 6.])\n",
    "X = np.stack((u,v,w))\n",
    "print(X)"
   ]
  },
  {
   "cell_type": "code",
   "execution_count": 6,
   "metadata": {},
   "outputs": [
    {
     "data": {
      "image/png": "[encoded data removed]",
      "text/plain": [
       "<Figure size 640x480 with 1 Axes>"
      ]
     },
     "metadata": {},
     "output_type": "display_data"
    }
   ],
   "source": [
    "import matplotlib.pyplot as plt\n",
    "x = np.linspace(-2,2,100)\n",
    "y = x ** 2\n",
    "plt.plot(x,y)\n",
    "plt.show()"
   ]
  },
  {
   "attachments": {},
   "cell_type": "markdown",
   "metadata": {},
   "source": [
    "## Probability\n",
    "$Var(X)=E[(X-E[X])^2]=E[X^2]-E[X]^2$\n",
    "### Markov inequality\n",
    "$P(X\\ge a)\\le \\frac{E[X]}{a},\\forall a>0$\n",
    "### Chebyshev's inequality\n",
    "$P(|X-\\mu|\\ge a)\\le \\frac{Var(X)}{a}$"
   ]
  },
  {
   "attachments": {},
   "cell_type": "markdown",
   "metadata": {},
   "source": [
    "# 1.26\n",
    "$Var(aX+Y)=Var(aX)+Var(Y)=a^2Var(X)+Var(Y)$, only if X and Y are independent\n",
    "\n",
    "## Weak laws of big numbers\n",
    "$X_1,X_2,...,X_n$ are i.i.d RVs and $\\frac{s_n}{n}=\\frac{X_1+...+X_n}{n}$, then $\\lim_{n\\rightarrow \\infty}\\frac{s_n}{n} = E[X]$, or\\\n",
    "sample mean $\\rightarrow$ population mean. That is:\\\n",
    "$\\lim_{n\\rightarrow \\infty}P(|\\frac{s_n}{n}-E[X]|>\\epsilon)=0$\n",
    "### Proof\n",
    "$E[\\frac{s_n}{n}]=E[\\frac{X_1+...+X_n}{n}]\\\n",
    "=\\frac{E[X_1]+...+E[X_n]}{n}\\\n",
    "=E[X_1]$\n",
    "\n",
    "$Var(\\frac{s_n}{n})=\\frac{1}{n^2}Var(X_1+...+X_n)=\\frac{1}{n^2}nVar(X_1+...+X_n)=\\frac{Var(X_1)}{n}$\n",
    "So, $n\\rightarrow \\infty$, $Var[X]\\rightarrow 0$. \n",
    "\n",
    "And by Chebyshev, $P(|\\frac{s_n}{n}-E[X]|>\\epsilon) \\le \\frac{Var(\\frac{s_n}{n})}{\\epsilon ^2} = \\frac{Var(X_1)}{n \\epsilon ^2}$"
   ]
  },
  {
   "attachments": {},
   "cell_type": "markdown",
   "metadata": {},
   "source": [
    "## K-means Clustering\n",
    "### Objective\n",
    "$\\min_{C_1,...,C_k} \\min_{\\mu_1,...,\\mu_k \\in \\mathbf{R}^d} \\sum_{i=1}^k \\sum_{j\\in C_i} ||x_i-\\mu_i||^2$\n",
    "\n",
    "#### Lemma:\n",
    "$\\mu_i^*=\\frac{1}{|C_i|}\\sum_{j \\in C_i}x_j$"
   ]
  },
  {
   "attachments": {},
   "cell_type": "markdown",
   "metadata": {},
   "source": [
    "## K-means algorithm (Alternating minimization)\n",
    "* Optimal representative ($\\mu_i$, centroid of the cluster, which is the mean of the members)\n",
    "* Optimal clustering: update $C_1,...,C_k$"
   ]
  },
  {
   "attachments": {},
   "cell_type": "markdown",
   "metadata": {},
   "source": [
    "## K-means by matrix:\n",
    "$Z$ is the representative matrix, for example, if $C_1={1，4，6，8}, C_2={2,3,7}, C_3={5}$. Then $Z=\\begin{bmatrix}\n",
    "1&0&0\\\\\n",
    "0&1&0\\\\\n",
    "0&1&0\\\\\n",
    "1&0&0\\\\\n",
    "0&0&1\\\\\n",
    "1&0&0\\\\\n",
    "0&1&0\\\\\n",
    "1&0&0\\\\\n",
    "\\end{bmatrix}$"
   ]
  },
  {
   "attachments": {},
   "cell_type": "markdown",
   "metadata": {},
   "source": [
    "# 1.31\n",
    "## K-means clustering in high dimensional data\n",
    "K means clustering performs bad in high dimensional data.\n",
    "### New phenomenon\n",
    "Imagine an n-d cube and a ball inscribed in it. Randomly pick a point in the cube, what is the possibility of the point happens to fall in the ball?\\\n",
    "Let $B=\\{x \\in R^d:||x|| \\leq \\frac{1}{2}\\}$ and $C=[-\\frac{1}{2},\\frac{1}{2}]^d$. Pick $\\overrightarrow{X}$~$U[C]$, where $\\overrightarrow{X}=(X_1,X_2,...,X_n)$ Then as $d \\rightarrow + \\infty$:\\\n",
    "$P[X\\in B]\\rightarrow 0$\\\n",
    "Why?\\\n",
    "PDF of $X_i=1$ on $[-\\frac{1}{2},\\frac{1}{2}]$, $P(\\overrightarrow{X}=(x1,...,x_n))= P(X_1=x_1,...,X_d=x_d)$. So:\\\n",
    "$P[\\overrightarrow{X} \\in B]=\\frac{Vol(B)}{Vol(Cube)}=Vol(B)\\approx \\frac{1}{n}$, which goes to 0 as $n \\rightarrow 0$"
   ]
  },
  {
   "attachments": {},
   "cell_type": "markdown",
   "metadata": {},
   "source": [
    "# 2.7"
   ]
  },
  {
   "attachments": {},
   "cell_type": "markdown",
   "metadata": {},
   "source": [
    "## Linear algebra review\n",
    "If $V\\subset R^n$, $\\exists$ basis $u_1,...,u_r\\in V$ s.t.:\n",
    "\n",
    "1. $V \\subseteq span(u_1,...u_r)$\n",
    "\n",
    "2. $u_1,...,u_r$ are linearly independent ($r=dim(V)$)\n",
    "### Orthogonality\n",
    "Let $u,v\\in R^n$, we say $u$ and $v$ are orthogonal, $u\\perp v$ if $<u,v>=u^Tv=0$ because $<u,v>=||u||\\cdot ||v||\\cdot cos\\theta$, so $<u,v>=0 \\iff cos \\theta =0\\iff \\theta=\\frac{\\pi}{2}$\n",
    "#### Properties:\n",
    "1. Symmetry\n",
    "   $<u,v>=<v,u>$\n",
    "2. Linear\n",
    "   $<au+v,w>=a<u,w>+<v,w>$\n",
    "3. Norm\n",
    "   $<u,u>=||u||\\cdot ||u||\\cdot cos(0)=||u||^2$\n",
    "\n",
    "Lemma.(Phythgoras)\n",
    "\n",
    "* If $u,v\\in R^n, u\\perp v$, then $||u+v||^2=||u||^2+||v||^2$\n",
    "* Proof: Symmetry   \n",
    "\n",
    "Lemma. (Cauchy-Schwartz)\n",
    "\n",
    "* If $u,v\\in R^n$, then $|<u,v>|\\le||u||\\cdot||v||$\n",
    "* Proof: Linearity, decomposition\n",
    "\n",
    "A list of vectors $[v_1,...,v_n]$ is orthonormal, then $<u_i,u_j>=0$ if $i\\neq j$ and $=1$ if $i=j$.\n",
    "\n",
    "Lemma.\n",
    "\n",
    "1. If $[v_1,...,v_n]$ is orthonormal, then they are linearly independent\n",
    "2. $||\\sum_{i=1}^m \\alpha_i u_i||^2=\\sum_{i=1}^m \\alpha_i^2$\n",
    "\n",
    "Thm. (Orthonormal expansion)\n",
    "\n",
    "$\\{q_1,...,q_n\\}=$ orthonormal basis of $U\\subseteq R^n$. For any $w\\in U$, $w=\\sum_{i=1}^m<w,q_j>\\cdot q_j$\n",
    "\n",
    "Thm. (Orthorgonal projection)\n",
    "\n",
    "The point where it with the ending and starting points of the vector form a right angle. \n",
    "\n",
    "Def.\n",
    "\n",
    "$U \\subseteq R^n, v\\in R^n$. Then:\n",
    "1. $\\exists$ unique solution p* to $\\min_{P\\in U}||p-v||$, denote p* as $proj_{u}(v)$\n",
    "2. p* satisfies: $<v-p*,u>=0, \\forall u\\in U$ ($u$ is the origin to any point on the plane $U$) \n",
    "3. If $[v_1,...,v_n]$ is orthonormal, then $p*=proj_{\\{v_1,...,v_n\\}}(v)=\\sum_{j=1}^m<v,q_j>q_j$\n",
    "\n",
    "### Orthorgonal in high dimension"
   ]
  },
  {
   "attachments": {},
   "cell_type": "markdown",
   "metadata": {},
   "source": [
    "# 2.28\n",
    "## PCA\n",
    "### Goal: Dimension Reduction (Find $\\phi$ s.t. sample variance after projection is the maximum)\n",
    "### Conditional Numbers\n",
    "$Ax=b$, how sensitive x is w.r.t. changing b?\n",
    "\n",
    "$k(A)=||A||_2 ||A^{-1}||_2=\\frac{\\sigma_1}{\\sigma_n}$\n",
    "\n",
    "#### Thm. \n",
    "\n",
    "$$\\max_{d\\neq0} \\frac{\\frac{||M(z+d)-Mz||}{Mz}}{\\frac{||d||}{||z||}}\\leq k_2(M)$$\n",
    "$M=A^{-1}, z=b, d=\\delta b$\n",
    "\n",
    "$$x+\\delta b=A^{-1}(b+\\delta b)=A^{-1}b+A^{-1}\\delta b$$\n",
    "where $A^{-1}b=x$, that becomes:\n",
    "\n",
    "$$x+A^{-1}\\delta b=x+\\delta x \\Rightarrow A^{-1}\\delta b = \\delta x$$\n",
    "\n",
    "$$\\frac{||\\delta x||}{||x||} \\leq k_2(A) \\frac{||\\delta b||}{||b||}$$"
   ]
  },
  {
   "cell_type": "code",
   "execution_count": 5,
   "metadata": {},
   "outputs": [
    {
     "data": {
      "text/plain": [
       "array([[ 5,  8,  9,  2],\n",
       "       [10, 16, 18,  4],\n",
       "       [15, 24, 27,  6],\n",
       "       [20, 32, 36,  8]])"
      ]
     },
     "execution_count": 5,
     "metadata": {},
     "output_type": "execute_result"
    }
   ],
   "source": [
    "import numpy as np\n",
    "\n",
    "a=np.array([1,2,3,4])\n",
    "b=np.array([5,8,9,2])\n",
    "\n",
    "np.outer(a,b)"
   ]
  }
 ],
 "metadata": {
  "kernelspec": {
   "display_name": "base",
   "language": "python",
   "name": "python3"
  },
  "language_info": {
   "codemirror_mode": {
    "name": "ipython",
    "version": 3
   },
   "file_extension": ".py",
   "mimetype": "text/x-python",
   "name": "python",
   "nbconvert_exporter": "python",
   "pygments_lexer": "ipython3",
   "version": "3.9.13"
  },
  "orig_nbformat": 4,
  "vscode": {
   "interpreter": {
    "hash": "6a018d3a992d78c184ccc94ab54168c7b26325ed3c2283926339c3edbf5487e7"
   }
  }
 },
 "nbformat": 4,
 "nbformat_minor": 2
}
