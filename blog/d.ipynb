{
 "cells": [
  {
   "cell_type": "code",
   "execution_count": null,
   "id": "d0fadb60",
   "metadata": {},
   "outputs": [
    {
     "name": "stdout",
     "output_type": "stream",
     "text": [
      "A new possibility for creation.md\n",
      "Alternative way for font style change.md\n",
      "ChatGPT has changed.md\n",
      "Complimentary sharing ideas.md\n",
      "HTML的自动下载.md\n",
      "Interesting english words.md\n",
      "[20231110]The northernmost sceneries-Trip to Alaska.md\n",
      "[20231129]网站更新日志-Web Share API的使用.md\n",
      "[20240212]My favorite textbook.md\n",
      "[20240229]服务器Alist搭建日志.md\n",
      "[20240320]My MBTI.md\n",
      "[20240405]韩语中的归化现象.md\n",
      "[20240411]Cloudflare R2-A free cloud object storage.md\n"
     ]
    }
   ],
   "source": [
    "import os\n",
    "\n"
   ]
  },
  {
   "cell_type": "code",
   "execution_count": 4,
   "id": "b9471a50",
   "metadata": {},
   "outputs": [],
   "source": [
    "for mdFile in [x for x in os.listdir('.') if x.strip().endswith('.md') and not x.strip().startswith('.')]:\n",
    "    # print(mdFile)\n",
    "    with open(mdFile, 'r', encoding='utf-8') as file:\n",
    "        content = file.read()\n",
    "\n",
    "    new_content = content.replace('<script src=\"../widgets/a11y-m.js\"></script>', '')\n",
    "\n",
    "    with open(mdFile, 'w', encoding='utf-8') as file:\n",
    "        file.write(new_content)\n",
    "        \n",
    "    file.close()"
   ]
  }
 ],
 "metadata": {
  "kernelspec": {
   "display_name": "Python 3",
   "language": "python",
   "name": "python3"
  },
  "language_info": {
   "codemirror_mode": {
    "name": "ipython",
    "version": 3
   },
   "file_extension": ".py",
   "mimetype": "text/x-python",
   "name": "python",
   "nbconvert_exporter": "python",
   "pygments_lexer": "ipython3",
   "version": "3.12.5"
  }
 },
 "nbformat": 4,
 "nbformat_minor": 5
}
