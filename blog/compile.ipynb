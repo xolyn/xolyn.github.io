{
 "cells": [
  {
   "cell_type": "code",
   "execution_count": 14,
   "metadata": {},
   "outputs": [],
   "source": [
    "import os\n",
    "import markdown\n",
    "import sys\n",
    "from datetime import datetime\n",
    "import re"
   ]
  },
  {
   "cell_type": "code",
   "execution_count": 18,
   "metadata": {},
   "outputs": [
    {
     "data": {
      "text/plain": [
       "'<a href=\"ss\" id=\"iop\">dd</a href=\"ss\">'"
      ]
     },
     "execution_count": 18,
     "metadata": {},
     "output_type": "execute_result"
    }
   ],
   "source": [
    "def parseHTML(abbr, content):\n",
    "    match = re.match(r'([^{.#]+)(?:#([^.#]+))?(?:\\.([^.#]*))?', abbr)\n",
    "    tag, id, classes = match.groups()\n",
    "    html = f'<{tag}'\n",
    "    if id:\n",
    "        html += f' id=\"{id}\"'\n",
    "    if classes:\n",
    "        html += f' class=\"{classes.replace(\".\", \" \")}\"'\n",
    "    html += f'>{content}</{tag}>'\n",
    "    return html\n",
    "\n",
    "parseHTML('a href=\"ss\"#iop','dd')"
   ]
  },
  {
   "cell_type": "code",
   "execution_count": null,
   "metadata": {},
   "outputs": [],
   "source": [
    "relativeDir=sys.argv[0]\n",
    "\n",
    "for i in range(os.listdir(relativeDir)):\n",
    "    print(i)"
   ]
  }
 ],
 "metadata": {
  "kernelspec": {
   "display_name": "base",
   "language": "python",
   "name": "python3"
  },
  "language_info": {
   "codemirror_mode": {
    "name": "ipython",
    "version": 3
   },
   "file_extension": ".py",
   "mimetype": "text/x-python",
   "name": "python",
   "nbconvert_exporter": "python",
   "pygments_lexer": "ipython3",
   "version": "3.9.13"
  }
 },
 "nbformat": 4,
 "nbformat_minor": 2
}
