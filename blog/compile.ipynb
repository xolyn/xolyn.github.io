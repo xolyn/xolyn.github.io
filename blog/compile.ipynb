{
 "cells": [
  {
   "cell_type": "code",
   "execution_count": 3,
   "metadata": {},
   "outputs": [],
   "source": [
    "import os\n",
    "import markdown\n",
    "import sys\n",
    "from datetime import datetime\n",
    "import re"
   ]
  },
  {
   "cell_type": "code",
   "execution_count": 18,
   "metadata": {},
   "outputs": [
    {
     "data": {
      "text/plain": [
       "'<a href=\"ss\" id=\"iop\">dd</a href=\"ss\">'"
      ]
     },
     "execution_count": 18,
     "metadata": {},
     "output_type": "execute_result"
    }
   ],
   "source": [
    "def parseHTML(abbr, content):\n",
    "    match = re.match(r'([^{.#]+)(?:#([^.#]+))?(?:\\.([^.#]*))?', abbr)\n",
    "    tag, id, classes = match.groups()\n",
    "    html = f'<{tag}'\n",
    "    if id:\n",
    "        html += f' id=\"{id}\"'\n",
    "    if classes:\n",
    "        html += f' class=\"{classes.replace(\".\", \" \")}\"'\n",
    "    html += f'>{content}</{tag}>'\n",
    "    return html\n",
    "\n",
    "parseHTML('a href=\"ss\"#iop','dd')"
   ]
  },
  {
   "cell_type": "code",
   "execution_count": 1,
   "metadata": {},
   "outputs": [],
   "source": [
    "def parse_string(s):\n",
    "    # Regular expression to match date, tags, and title\n",
    "    match = re.match(r'(\\{([^}]*)\\})?\\[([^]]*)\\]?(.*)', s)\n",
    "    \n",
    "    # Handle different bracket orders\n",
    "    if match.group(1) and match.group(3):\n",
    "        date = match.group(2)\n",
    "        tags = match.group(3).split(',')\n",
    "        title = match.group(4)\n",
    "    elif match.group(1):\n",
    "        date = match.group(2)\n",
    "        tags = []\n",
    "        title = match.group(4)\n",
    "    elif match.group(3):\n",
    "        date = ''\n",
    "        tags = match.group(3).split(',')\n",
    "        title = match.group(4)\n",
    "    \n",
    "    # Convert date to integer if not empty\n",
    "    date = int(date) if date else ''\n",
    "    \n",
    "    return date, tags, title"
   ]
  },
  {
   "cell_type": "code",
   "execution_count": 4,
   "metadata": {},
   "outputs": [
    {
     "data": {
      "text/plain": [
       "(20120918, ['web', 'personal'], 'I am title')"
      ]
     },
     "execution_count": 4,
     "metadata": {},
     "output_type": "execute_result"
    }
   ],
   "source": [
    "parse_string('{20120918}[web,personal]I am title')"
   ]
  }
 ],
 "metadata": {
  "kernelspec": {
   "display_name": "base",
   "language": "python",
   "name": "python3"
  },
  "language_info": {
   "codemirror_mode": {
    "name": "ipython",
    "version": 3
   },
   "file_extension": ".py",
   "mimetype": "text/x-python",
   "name": "python",
   "nbconvert_exporter": "python",
   "pygments_lexer": "ipython3",
   "version": "3.9.13"
  }
 },
 "nbformat": 4,
 "nbformat_minor": 2
}
